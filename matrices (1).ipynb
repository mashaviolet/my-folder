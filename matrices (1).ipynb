{
 "cells": [
  {
   "cell_type": "markdown",
   "id": "2c1b4bfe-2d62-4f4c-8280-f00943b75407",
   "metadata": {},
   "source": [
    "# creating a two by two matrix"
   ]
  },
  {
   "cell_type": "code",
   "execution_count": 1,
   "id": "1598098c-b53e-4724-bba7-14508db7e740",
   "metadata": {},
   "outputs": [],
   "source": [
    "import numpy as np"
   ]
  },
  {
   "cell_type": "code",
   "execution_count": 2,
   "id": "451ede88-ce3b-40f1-b6f7-8a533df9c792",
   "metadata": {},
   "outputs": [
    {
     "name": "stdout",
     "output_type": "stream",
     "text": [
      "[[2 1]\n",
      " [3 4]]\n"
     ]
    }
   ],
   "source": [
    "matrix_A=np.array([[2,1],[3,4]])\n",
    "print(matrix_A)"
   ]
  },
  {
   "cell_type": "markdown",
   "id": "8737c723-9906-4907-9336-80f0c9d8dbc1",
   "metadata": {},
   "source": [
    "# creating a 3x3 matix"
   ]
  },
  {
   "cell_type": "code",
   "execution_count": 4,
   "id": "a35694ba-526e-424d-b9d3-d26b4f61927b",
   "metadata": {},
   "outputs": [
    {
     "name": "stdout",
     "output_type": "stream",
     "text": [
      "[[3 1 4]\n",
      " [2 1 3]\n",
      " [5 2 4]]\n"
     ]
    }
   ],
   "source": [
    "matrix_B=np.array([[3,1,4],[2,1,3],[5,2,4]])\n",
    "print(matrix_B)"
   ]
  },
  {
   "cell_type": "markdown",
   "id": "fd518e8b-d75d-458c-a7b0-f2e23bfb776b",
   "metadata": {},
   "source": [
    "# Addition of matrices"
   ]
  },
  {
   "cell_type": "code",
   "execution_count": 6,
   "id": "1f195f5b-00c9-428e-9b55-a90cff9e9db1",
   "metadata": {},
   "outputs": [
    {
     "name": "stdout",
     "output_type": "stream",
     "text": [
      "[[ 3  5  8]\n",
      " [12 14 13]\n",
      " [13  9  5]]\n"
     ]
    }
   ],
   "source": [
    "x=np.array([[2,3,5],[4,5,6],[7,4,2]])\n",
    "y=np.array([[1,2,3],[8,9,7],[6,5,3]])\n",
    "print(np.add(x,y))"
   ]
  },
  {
   "cell_type": "code",
   "execution_count": 7,
   "id": "4f88c29d-d0dc-42b9-bdd4-8825e8062cac",
   "metadata": {},
   "outputs": [
    {
     "name": "stdout",
     "output_type": "stream",
     "text": [
      "[[ 1  1  2]\n",
      " [-4 -4 -1]\n",
      " [ 1 -1 -1]]\n"
     ]
    }
   ],
   "source": [
    "x=np.array([[2,3,5],[4,5,6],[7,4,2]])\n",
    "y=np.array([[1,2,3],[8,9,7],[6,5,3]])\n",
    "print(np.subtract(x,y))"
   ]
  },
  {
   "cell_type": "code",
   "execution_count": 8,
   "id": "6cc409dc-8ed3-468b-8810-619e4ec04a7a",
   "metadata": {},
   "outputs": [
    {
     "name": "stdout",
     "output_type": "stream",
     "text": [
      "[[56 56 42]\n",
      " [80 83 65]\n",
      " [51 60 55]]\n"
     ]
    }
   ],
   "source": [
    "x=np.array([[2,3,5],[4,5,6],[7,4,2]])\n",
    "y=np.array([[1,2,3],[8,9,7],[6,5,3]])\n",
    "print(np.dot(x,y))"
   ]
  },
  {
   "cell_type": "code",
   "execution_count": 9,
   "id": "7b889122-fc0b-46a6-928f-c9764d7e8db1",
   "metadata": {},
   "outputs": [
    {
     "name": "stdout",
     "output_type": "stream",
     "text": [
      "[[2.         1.5        1.66666667]\n",
      " [0.5        0.55555556 0.85714286]\n",
      " [1.16666667 0.8        0.66666667]]\n"
     ]
    }
   ],
   "source": [
    "x=np.array([[2,3,5],[4,5,6],[7,4,2]])\n",
    "y=np.array([[1,2,3],[8,9,7],[6,5,3]])\n",
    "print(np.divide(x,y))"
   ]
  },
  {
   "cell_type": "code",
   "execution_count": 10,
   "id": "4c8c3b41-c53f-407b-8aee-912cb9c26b35",
   "metadata": {},
   "outputs": [
    {
     "name": "stdout",
     "output_type": "stream",
     "text": [
      "[[ 2  6 15]\n",
      " [32 45 42]\n",
      " [42 20  6]]\n"
     ]
    }
   ],
   "source": [
    "x=np.array([[2,3,5],[4,5,6],[7,4,2]])\n",
    "y=np.array([[1,2,3],[8,9,7],[6,5,3]])\n",
    "print(np.multiply(x,y))"
   ]
  },
  {
   "cell_type": "code",
   "execution_count": 12,
   "id": "320a8759-5729-48f1-99f3-a7c3bef2cd9c",
   "metadata": {},
   "outputs": [
    {
     "name": "stdout",
     "output_type": "stream",
     "text": [
      "[[3 6]\n",
      " [5 7]]\n"
     ]
    }
   ],
   "source": [
    "B=np.array([[3,5],[6,7]])\n",
    "print(np.transpose(B))"
   ]
  },
  {
   "cell_type": "code",
   "execution_count": 14,
   "id": "135a5d57-96c8-40ac-9936-255c507c4271",
   "metadata": {},
   "outputs": [
    {
     "name": "stdout",
     "output_type": "stream",
     "text": [
      "[[3 6]\n",
      " [5 7]]\n"
     ]
    }
   ],
   "source": [
    "T=B.T\n",
    "print(T)"
   ]
  },
  {
   "cell_type": "markdown",
   "id": "008e2af8-d56e-40cf-bb8d-f7ea2a87abd1",
   "metadata": {},
   "source": [
    "# Determinant of a matrix"
   ]
  },
  {
   "cell_type": "code",
   "execution_count": 15,
   "id": "a98519fd-a000-4525-9faf-df6500cdff9e",
   "metadata": {},
   "outputs": [
    {
     "name": "stdout",
     "output_type": "stream",
     "text": [
      "-17.999999999999996\n"
     ]
    }
   ],
   "source": [
    "x=np.array([[3,6],[7,8]])\n",
    "determinant=np.linalg.det(x)\n",
    "print(determinant)"
   ]
  },
  {
   "cell_type": "markdown",
   "id": "5d2d45ab-6cf7-46c7-a158-7cccbb36b850",
   "metadata": {},
   "source": [
    "# multiplication"
   ]
  },
  {
   "cell_type": "code",
   "execution_count": 18,
   "id": "fe3258c6-1a4c-492e-968d-b781aab9f4be",
   "metadata": {},
   "outputs": [
    {
     "name": "stdout",
     "output_type": "stream",
     "text": [
      "[[35 58]\n",
      " [24 30]]\n"
     ]
    }
   ],
   "source": [
    "d=np.array([[7,2],[1,3]])\n",
    "print(np.dot(d,x))"
   ]
  },
  {
   "cell_type": "code",
   "execution_count": null,
   "id": "8cd5fab3-a00f-4ede-bb55-f820cc4eb965",
   "metadata": {},
   "outputs": [],
   "source": []
  }
 ],
 "metadata": {
  "kernelspec": {
   "display_name": "Python 3 (ipykernel)",
   "language": "python",
   "name": "python3"
  },
  "language_info": {
   "codemirror_mode": {
    "name": "ipython",
    "version": 3
   },
   "file_extension": ".py",
   "mimetype": "text/x-python",
   "name": "python",
   "nbconvert_exporter": "python",
   "pygments_lexer": "ipython3",
   "version": "3.12.6"
  }
 },
 "nbformat": 4,
 "nbformat_minor": 5
}
