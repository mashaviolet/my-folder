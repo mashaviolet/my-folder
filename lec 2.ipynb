{
 "cells": [
  {
   "cell_type": "code",
   "execution_count": 1,
   "id": "36529c91-ca42-4551-b079-808cbdf37789",
   "metadata": {},
   "outputs": [],
   "source": [
    "import numpy as np"
   ]
  },
  {
   "cell_type": "code",
   "execution_count": 2,
   "id": "6af82eb6-6dc3-47ff-8eec-f7c7c5d214d2",
   "metadata": {},
   "outputs": [],
   "source": [
    "import pandas as pd"
   ]
  },
  {
   "cell_type": "code",
   "execution_count": 3,
   "id": "97111a56-5ad3-437b-86ab-5711d8df131e",
   "metadata": {},
   "outputs": [],
   "source": [
    "import matplotlib.pyplot as plt"
   ]
  },
  {
   "cell_type": "code",
   "execution_count": 4,
   "id": "87641082-f13b-4f45-8680-979664aba533",
   "metadata": {},
   "outputs": [],
   "source": [
    "import seaborn as sns"
   ]
  },
  {
   "cell_type": "markdown",
   "id": "655c652f-90d1-4619-b262-5aad3652f48d",
   "metadata": {},
   "source": [
    "## MATRICES"
   ]
  },
  {
   "cell_type": "markdown",
   "id": "670e7c98-715c-440d-beb1-fa4a34e191df",
   "metadata": {},
   "source": [
    "## Create a 2*2 matrix"
   ]
  },
  {
   "cell_type": "code",
   "execution_count": 23,
   "id": "5b9334f4-d3a7-4907-b62f-6ab72b49b4bd",
   "metadata": {},
   "outputs": [
    {
     "name": "stdout",
     "output_type": "stream",
     "text": [
      "[[2 1]\n",
      " [3 4]]\n"
     ]
    }
   ],
   "source": [
    "matrix_1 = np.array([[2,1],[3,4]])\n",
    "print(matrix_1)"
   ]
  },
  {
   "cell_type": "markdown",
   "id": "0f734b82-a918-48e2-bc84-75233525b910",
   "metadata": {},
   "source": [
    "## Creat a 3*3"
   ]
  },
  {
   "cell_type": "code",
   "execution_count": 24,
   "id": "a433eaa0-e88c-4661-a8a0-8a7b24663914",
   "metadata": {},
   "outputs": [
    {
     "name": "stdout",
     "output_type": "stream",
     "text": [
      "[[3 1 4]\n",
      " [2 1 3]\n",
      " [5 2 4]]\n"
     ]
    }
   ],
   "source": [
    "matrix_2 = np.array([[3,1,4],[2,1,3],[5,2,4]])\n",
    "print(matrix_2)"
   ]
  },
  {
   "cell_type": "markdown",
   "id": "9c012bed-b4da-4dc4-acc7-6ceaa600a2bb",
   "metadata": {},
   "source": [
    "## Addition of matrices"
   ]
  },
  {
   "cell_type": "code",
   "execution_count": 9,
   "id": "4ddd6899-cde6-488e-8cc0-9e6ac41ba651",
   "metadata": {},
   "outputs": [
    {
     "name": "stdout",
     "output_type": "stream",
     "text": [
      "[[3 9]\n",
      " [6 8]]\n"
     ]
    }
   ],
   "source": [
    "x = np.array([[2,1],[3,4]])\n",
    "y = np.array([[1,8],[3,4]])\n",
    "print(np.add(x,y))"
   ]
  },
  {
   "cell_type": "markdown",
   "id": "ce74d171-6503-45f3-a6fb-016b1434fd9c",
   "metadata": {},
   "source": [
    "## Subtraction of Matrices"
   ]
  },
  {
   "cell_type": "code",
   "execution_count": 11,
   "id": "e2d83077-7ac0-4522-a35f-17e93d78ac9b",
   "metadata": {},
   "outputs": [
    {
     "name": "stdout",
     "output_type": "stream",
     "text": [
      "[[ 1 -7]\n",
      " [ 0  0]]\n"
     ]
    }
   ],
   "source": [
    "x = np.array([[2,1],[3,4]])\n",
    "y = np.array([[1,8],[3,4]])\n",
    "print(np.subtract(x,y))"
   ]
  },
  {
   "cell_type": "markdown",
   "id": "21a52df1-45c1-4f07-b7f0-4a0ce8e6ba89",
   "metadata": {},
   "source": [
    "## Multiplication of Matrices\n"
   ]
  },
  {
   "cell_type": "code",
   "execution_count": 29,
   "id": "ecbe882f-de7c-4d5b-a0da-8fcb0c351320",
   "metadata": {},
   "outputs": [
    {
     "name": "stdout",
     "output_type": "stream",
     "text": [
      "[[ 2  8]\n",
      " [ 9 16]]\n"
     ]
    }
   ],
   "source": [
    "#using multiply. This multiplies direct\n",
    "\n",
    "x = np.array([[2,1],[3,4]])\n",
    "y = np.array([[1,8],[3,4]])\n",
    "print(np.multiply(x,y))"
   ]
  },
  {
   "cell_type": "code",
   "execution_count": 30,
   "id": "2cdfe4b4-d3cd-4982-b06c-8fc214e2e39d",
   "metadata": {},
   "outputs": [
    {
     "name": "stdout",
     "output_type": "stream",
     "text": [
      "[[ 5 20]\n",
      " [15 40]]\n"
     ]
    }
   ],
   "source": [
    "# using dot. this multiplies manually like we do in our books\n",
    "\n",
    "x = np.array([[2,1],[3,4]])\n",
    "y = np.array([[1,8],[3,4]])\n",
    "print(np.dot(x,y))"
   ]
  },
  {
   "cell_type": "markdown",
   "id": "3555f746-bae0-4be4-838c-8bf77d013a9c",
   "metadata": {},
   "source": [
    "## Division of Matrices"
   ]
  },
  {
   "cell_type": "code",
   "execution_count": 13,
   "id": "7185940a-657f-48b2-b5a3-903ed0c227da",
   "metadata": {},
   "outputs": [
    {
     "name": "stdout",
     "output_type": "stream",
     "text": [
      "[[2.    0.125]\n",
      " [1.    1.   ]]\n"
     ]
    }
   ],
   "source": [
    "x = np.array([[2,1],[3,4]])\n",
    "y = np.array([[1,8],[3,4]])\n",
    "print(np.divide(x,y))"
   ]
  },
  {
   "cell_type": "markdown",
   "id": "a3b60a65-1f98-48e5-9922-56934a3f7604",
   "metadata": {},
   "source": [
    "## Transpose"
   ]
  },
  {
   "cell_type": "code",
   "execution_count": 16,
   "id": "c99c7cf9-f879-432d-bd9a-08fb31f58ad9",
   "metadata": {},
   "outputs": [
    {
     "name": "stdout",
     "output_type": "stream",
     "text": [
      "[[2 1]\n",
      " [3 4]]\n"
     ]
    }
   ],
   "source": [
    "x = np.array([[2,1],[3,4]])\n",
    "print(x)"
   ]
  },
  {
   "cell_type": "code",
   "execution_count": 17,
   "id": "1456e21a-54df-4169-a6d7-86816707ae95",
   "metadata": {},
   "outputs": [
    {
     "name": "stdout",
     "output_type": "stream",
     "text": [
      "[[2 3]\n",
      " [1 4]]\n"
     ]
    }
   ],
   "source": [
    "transpose_x = np.transpose(x)\n",
    "print(transpose_x)"
   ]
  },
  {
   "cell_type": "markdown",
   "id": "a2a1aee9-bbc2-4414-aee7-7a55991cd43c",
   "metadata": {},
   "source": [
    "## Determinant"
   ]
  },
  {
   "cell_type": "code",
   "execution_count": 18,
   "id": "fb2f5dc5-2080-4e78-a90a-b8e25e811df7",
   "metadata": {},
   "outputs": [
    {
     "name": "stdout",
     "output_type": "stream",
     "text": [
      "[[2 1]\n",
      " [3 4]]\n"
     ]
    }
   ],
   "source": [
    "x = np.array([[2,1],[3,4]])\n",
    "print(x)"
   ]
  },
  {
   "cell_type": "code",
   "execution_count": 22,
   "id": "26795672-dcb9-4f7d-9ac0-0800a5b29911",
   "metadata": {},
   "outputs": [
    {
     "data": {
      "text/plain": [
       "np.float64(5.000000000000001)"
      ]
     },
     "execution_count": 22,
     "metadata": {},
     "output_type": "execute_result"
    }
   ],
   "source": [
    "determinant_x = np.linalg.det(x)\n",
    "determinant_x"
   ]
  },
  {
   "cell_type": "code",
   "execution_count": null,
   "id": "6befb57c-8a3e-4691-81a2-e23f0151220c",
   "metadata": {},
   "outputs": [],
   "source": []
  }
 ],
 "metadata": {
  "kernelspec": {
   "display_name": "Python 3 (ipykernel)",
   "language": "python",
   "name": "python3"
  },
  "language_info": {
   "codemirror_mode": {
    "name": "ipython",
    "version": 3
   },
   "file_extension": ".py",
   "mimetype": "text/x-python",
   "name": "python",
   "nbconvert_exporter": "python",
   "pygments_lexer": "ipython3",
   "version": "3.12.5"
  }
 },
 "nbformat": 4,
 "nbformat_minor": 5
}
