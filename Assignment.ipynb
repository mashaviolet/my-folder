{
 "cells": [
  {
   "cell_type": "code",
   "execution_count": 54,
   "id": "f622171e-a0d4-4f5a-b705-72bcf05c4e0c",
   "metadata": {},
   "outputs": [],
   "source": [
    "import numpy as np\n"
   ]
  },
  {
   "cell_type": "markdown",
   "id": "b1068deb-ce5d-43f2-b725-d69196bca4cf",
   "metadata": {},
   "source": [
    "## 1,i)"
   ]
  },
  {
   "cell_type": "code",
   "execution_count": 55,
   "id": "4eb0b439-5548-401d-bd96-fc06eea9c04b",
   "metadata": {},
   "outputs": [
    {
     "name": "stdout",
     "output_type": "stream",
     "text": [
      "[[ 2  2  3]\n",
      " [-2  7  4]\n",
      " [-3 -3 -4]\n",
      " [-8  2  3]]\n"
     ]
    }
   ],
   "source": [
    "A = np.array([[2,2,3], [-2,7,4], [-3,-3,-4], [-8,2,3]])\n",
    "print(A)"
   ]
  },
  {
   "cell_type": "markdown",
   "id": "01fb954e-61ac-44b2-bcfb-41f69ecf9dda",
   "metadata": {},
   "source": [
    "B = np.array([[4], [3], [3], [2]])\n",
    "new_matrix = np.hstack((A,B))\n",
    "print(new_matrix)"
   ]
  },
  {
   "cell_type": "code",
   "execution_count": 57,
   "id": "665f0d3b-ebfb-4302-941b-7abbed02dddc",
   "metadata": {},
   "outputs": [
    {
     "data": {
      "text/plain": [
       "np.float64(-1078.0000000000005)"
      ]
     },
     "execution_count": 57,
     "metadata": {},
     "output_type": "execute_result"
    }
   ],
   "source": [
    "determinant = np.linalg.det(new_matrix)\n",
    "determinant"
   ]
  },
  {
   "cell_type": "markdown",
   "id": "f34ed45f-a5bb-4b1d-9cb3-9c88a5a34489",
   "metadata": {},
   "source": [
    "## ii)"
   ]
  },
  {
   "cell_type": "code",
   "execution_count": 58,
   "id": "13623081-baa7-4484-9a04-b65fde41f82f",
   "metadata": {},
   "outputs": [
    {
     "name": "stdout",
     "output_type": "stream",
     "text": [
      "[[-2  7  4]\n",
      " [-3 -3 -4]\n",
      " [-8  2  3]]\n"
     ]
    }
   ],
   "source": [
    "A = np.array([[2,2,3], [-2,7,4], [-3,-3,-4], [-8,2,3]])\n",
    "reduced_matrix = np.delete(A,0, axis = 0)\n",
    "print(reduced_matrix)"
   ]
  },
  {
   "cell_type": "code",
   "execution_count": 59,
   "id": "71926fcf-d87b-4b14-a766-a9f17a7c7de7",
   "metadata": {},
   "outputs": [
    {
     "data": {
      "text/plain": [
       "np.float64(169.0)"
      ]
     },
     "execution_count": 59,
     "metadata": {},
     "output_type": "execute_result"
    }
   ],
   "source": [
    "determinant = np.linalg.det(reduced_matrix)\n",
    "determinant"
   ]
  },
  {
   "cell_type": "markdown",
   "id": "5a16c36b-2846-4743-8907-fd2dc24814d5",
   "metadata": {},
   "source": [
    "## iii)"
   ]
  },
  {
   "cell_type": "code",
   "execution_count": 60,
   "id": "3015d8c5-0d1a-4268-a395-9f3f7d5dccd6",
   "metadata": {},
   "outputs": [
    {
     "data": {
      "text/plain": [
       "array([[ 2, -2, -3, -8],\n",
       "       [ 2,  7, -3,  2],\n",
       "       [ 3,  4, -4,  3]])"
      ]
     },
     "execution_count": 60,
     "metadata": {},
     "output_type": "execute_result"
    }
   ],
   "source": [
    "#A is the matrix then AT is Transpose\n",
    "A = np.array([[2,2,3], [-2,7,4], [-3,-3,-4], [-8,2,3]])\n",
    "transposeAT = np.transpose(A)\n",
    "transposeAT"
   ]
  },
  {
   "cell_type": "code",
   "execution_count": 61,
   "id": "1c7c8905-43b1-4e51-99ab-6be4556c28b0",
   "metadata": {},
   "outputs": [
    {
     "name": "stdout",
     "output_type": "stream",
     "text": [
      "[[ 2  2  3]\n",
      " [-2  7  4]\n",
      " [-3 -3 -4]\n",
      " [-8  2  3]]\n"
     ]
    }
   ],
   "source": [
    "print(A)"
   ]
  },
  {
   "cell_type": "code",
   "execution_count": 62,
   "id": "428a2385-4c72-4fa6-b07e-5290b5c741fd",
   "metadata": {},
   "outputs": [
    {
     "data": {
      "text/plain": [
       "array([[ 17,  22, -24,  -3],\n",
       "       [ 22,  69, -31,  42],\n",
       "       [-24, -31,  34,   6],\n",
       "       [ -3,  42,   6,  77]])"
      ]
     },
     "execution_count": 62,
     "metadata": {},
     "output_type": "execute_result"
    }
   ],
   "source": [
    "multiplied_matrix = np.dot( A, transposeAT )\n",
    "multiplied_matrix"
   ]
  },
  {
   "cell_type": "code",
   "execution_count": 63,
   "id": "2aa1e08b-669c-4ecf-96c4-16adb359efa9",
   "metadata": {},
   "outputs": [
    {
     "data": {
      "text/plain": [
       "np.float64(-2.7018387527277813e-11)"
      ]
     },
     "execution_count": 63,
     "metadata": {},
     "output_type": "execute_result"
    }
   ],
   "source": [
    "determinant = np.linalg.det(multiplied_matrix)\n",
    "determinant"
   ]
  },
  {
   "cell_type": "code",
   "execution_count": 64,
   "id": "f3c758d7-4509-4f3e-87bf-baea7aa131ad",
   "metadata": {},
   "outputs": [],
   "source": [
    "# Yes, AAt is Invertable because it's determinant is not zero"
   ]
  },
  {
   "cell_type": "code",
   "execution_count": 65,
   "id": "54f361ba-cb22-4b24-a7e1-560ec00ef614",
   "metadata": {},
   "outputs": [
    {
     "ename": "ValueError",
     "evalue": "shapes (3,) and (4,3) not aligned: 3 (dim 0) != 4 (dim 0)",
     "output_type": "error",
     "traceback": [
      "\u001b[1;31m---------------------------------------------------------------------------\u001b[0m",
      "\u001b[1;31mValueError\u001b[0m                                Traceback (most recent call last)",
      "Cell \u001b[1;32mIn[65], line 1\u001b[0m\n\u001b[1;32m----> 1\u001b[0m multiplied_matrix \u001b[38;5;241m=\u001b[39m \u001b[43mnp\u001b[49m\u001b[38;5;241;43m.\u001b[39;49m\u001b[43mdot\u001b[49m\u001b[43m(\u001b[49m\u001b[43m \u001b[49m\u001b[43mtranspose\u001b[49m\u001b[43m,\u001b[49m\u001b[43m \u001b[49m\u001b[43mA\u001b[49m\u001b[43m \u001b[49m\u001b[43m)\u001b[49m\n\u001b[0;32m      2\u001b[0m multiplied_matrix\n",
      "\u001b[1;31mValueError\u001b[0m: shapes (3,) and (4,3) not aligned: 3 (dim 0) != 4 (dim 0)"
     ]
    }
   ],
   "source": [
    "multiplied_matrix = np.dot( transpose, A )\n",
    "multiplied_matrix"
   ]
  },
  {
   "cell_type": "code",
   "execution_count": 66,
   "id": "3bf54105-dcbc-4c09-9cb6-11b6cc4b9af4",
   "metadata": {},
   "outputs": [
    {
     "data": {
      "text/plain": [
       "np.float64(-2.7018387527277813e-11)"
      ]
     },
     "execution_count": 66,
     "metadata": {},
     "output_type": "execute_result"
    }
   ],
   "source": [
    "determinant = np.linalg.det(multiplied_matrix)\n",
    "determinant"
   ]
  },
  {
   "cell_type": "code",
   "execution_count": 67,
   "id": "42482826-a8aa-49d1-8734-6795760907ba",
   "metadata": {},
   "outputs": [],
   "source": [
    "# Yes it is invertible because the detreminant is not zero"
   ]
  },
  {
   "cell_type": "markdown",
   "id": "27e08c39-57a1-45d9-8f5a-accd0148e0a5",
   "metadata": {},
   "source": [
    "## 2. i)"
   ]
  },
  {
   "cell_type": "code",
   "execution_count": 68,
   "id": "b9e15cdd-7a6d-4f74-ba86-75c42be25759",
   "metadata": {},
   "outputs": [
    {
     "data": {
      "text/plain": [
       "array([[25,  2],\n",
       "       [ 5, 26],\n",
       "       [ 3,  7]])"
      ]
     },
     "execution_count": 68,
     "metadata": {},
     "output_type": "execute_result"
    }
   ],
   "source": [
    "X = np.array([[25, 2], [5, 26], [3, 7]])\n",
    "X"
   ]
  },
  {
   "cell_type": "code",
   "execution_count": 69,
   "id": "af2dfe70-0f40-4d05-b3e9-6f2a7693216e",
   "metadata": {},
   "outputs": [
    {
     "name": "stdout",
     "output_type": "stream",
     "text": [
      "(3, 2)\n"
     ]
    }
   ],
   "source": [
    "its_shape = np.shape(X)\n",
    "print(its_shape)"
   ]
  },
  {
   "cell_type": "markdown",
   "id": "25c39df2-2c6a-40da-b97e-4369a6fd8be6",
   "metadata": {},
   "source": [
    "## ii)"
   ]
  },
  {
   "cell_type": "code",
   "execution_count": 70,
   "id": "77e01011-c435-4bfb-9c5d-8ddb01a87414",
   "metadata": {},
   "outputs": [
    {
     "data": {
      "text/plain": [
       "array([[25,  5,  3],\n",
       "       [ 2, 26,  7]])"
      ]
     },
     "execution_count": 70,
     "metadata": {},
     "output_type": "execute_result"
    }
   ],
   "source": [
    "transpose = np.transpose(X)\n",
    "transpose"
   ]
  },
  {
   "cell_type": "markdown",
   "id": "d719fc99-a7b3-4818-bab7-b633cc133da4",
   "metadata": {},
   "source": [
    "## iii)"
   ]
  },
  {
   "cell_type": "code",
   "execution_count": 71,
   "id": "7207325c-a8fd-4737-bb98-e50eae205fb9",
   "metadata": {},
   "outputs": [
    {
     "data": {
      "text/plain": [
       "array([[75,  6],\n",
       "       [15, 78],\n",
       "       [ 9, 21]])"
      ]
     },
     "execution_count": 71,
     "metadata": {},
     "output_type": "execute_result"
    }
   ],
   "source": [
    "scarler_X = np.dot(3,X)\n",
    "scarler_X"
   ]
  },
  {
   "cell_type": "markdown",
   "id": "6c6b8b35-1b0f-42a2-93b5-b7ebf7ddeee0",
   "metadata": {},
   "source": [
    "## iv)"
   ]
  },
  {
   "cell_type": "code",
   "execution_count": 72,
   "id": "783a96a6-e09f-4c5d-850f-1d063cb6fa6a",
   "metadata": {},
   "outputs": [
    {
     "data": {
      "text/plain": [
       "[[3, 4], [5, 6], [7, 8]]"
      ]
     },
     "execution_count": 72,
     "metadata": {},
     "output_type": "execute_result"
    }
   ],
   "source": [
    "A = ([[3, 4], [5, 6], [7, 8]])\n",
    "A"
   ]
  },
  {
   "cell_type": "code",
   "execution_count": 73,
   "id": "68f778ed-4d56-4c26-8673-bc20fd63e8fe",
   "metadata": {},
   "outputs": [
    {
     "data": {
      "text/plain": [
       "array([[25,  5,  3],\n",
       "       [ 2, 26,  7]])"
      ]
     },
     "execution_count": 73,
     "metadata": {},
     "output_type": "execute_result"
    }
   ],
   "source": [
    "# we use X's transpose to get the value of XA\n",
    "transpose_X = np.transpose(X)\n",
    "transpose_X"
   ]
  },
  {
   "cell_type": "code",
   "execution_count": 74,
   "id": "894a5a18-f4a7-49b5-9094-0146a72b71e2",
   "metadata": {},
   "outputs": [
    {
     "data": {
      "text/plain": [
       "array([[ 83, 119,  37],\n",
       "       [137, 181,  57],\n",
       "       [191, 243,  77]])"
      ]
     },
     "execution_count": 74,
     "metadata": {},
     "output_type": "execute_result"
    }
   ],
   "source": [
    "multiplied_matrix = np.dot(A,transpose_X)\n",
    "multiplied_matrix"
   ]
  },
  {
   "cell_type": "code",
   "execution_count": 75,
   "id": "dfacbb4d-612a-4689-b4a9-c56b968e03cf",
   "metadata": {},
   "outputs": [],
   "source": [
    "# Approach 2\n",
    "#Multiplying A and X dirrect"
   ]
  },
  {
   "cell_type": "code",
   "execution_count": 76,
   "id": "434983db-11b9-402f-8ff4-20b87460f19a",
   "metadata": {},
   "outputs": [
    {
     "data": {
      "text/plain": [
       "array([[ 75,   8],\n",
       "       [ 25, 156],\n",
       "       [ 21,  56]])"
      ]
     },
     "execution_count": 76,
     "metadata": {},
     "output_type": "execute_result"
    }
   ],
   "source": [
    "matrix_multiplied = A*X\n",
    "matrix_multiplied"
   ]
  },
  {
   "cell_type": "markdown",
   "id": "a0c729c8-271d-453e-b66b-2f65ec92a318",
   "metadata": {},
   "source": [
    "## V)"
   ]
  },
  {
   "cell_type": "code",
   "execution_count": 77,
   "id": "4ce6ed62-c2ce-4e4d-b997-39fc60a630d1",
   "metadata": {},
   "outputs": [
    {
     "data": {
      "text/plain": [
       "array([[-1.89116000e+13,  3.78232000e+13, -1.89116000e+13],\n",
       "       [-7.43269860e+13,  1.48653972e+14, -7.43269860e+13],\n",
       "       [ 2.81474977e+14, -5.62949953e+14,  2.81474977e+14]])"
      ]
     },
     "execution_count": 77,
     "metadata": {},
     "output_type": "execute_result"
    }
   ],
   "source": [
    "inverse = np.linalg.inv(multiplied_matrix)\n",
    "inverse\n",
    "# we have used multiplied_matrix because A and X are square matrices that cant get inverse"
   ]
  },
  {
   "cell_type": "markdown",
   "id": "cfb971af-3dfd-4fab-916e-f11b63232fe1",
   "metadata": {},
   "source": [
    "## 3, i)"
   ]
  },
  {
   "cell_type": "code",
   "execution_count": 78,
   "id": "2d568ef3-eb0c-4990-8e9b-4cb06ab7afb9",
   "metadata": {},
   "outputs": [
    {
     "data": {
      "text/plain": [
       "[25, 2, 5]"
      ]
     },
     "execution_count": 78,
     "metadata": {},
     "output_type": "execute_result"
    }
   ],
   "source": [
    "entries = [25, 2, 5]\n",
    "entries\n"
   ]
  },
  {
   "cell_type": "code",
   "execution_count": 79,
   "id": "5df66d24-f1a3-4833-b9cb-e911b21eb54e",
   "metadata": {},
   "outputs": [
    {
     "data": {
      "text/plain": [
       "array([25,  2,  5])"
      ]
     },
     "execution_count": 79,
     "metadata": {},
     "output_type": "execute_result"
    }
   ],
   "source": [
    "p = np.array(entries)\n",
    "p"
   ]
  },
  {
   "cell_type": "markdown",
   "id": "20a87303-797b-42e6-9d42-fb08d3c12585",
   "metadata": {},
   "source": [
    "## ii)"
   ]
  },
  {
   "cell_type": "code",
   "execution_count": 80,
   "id": "58f2a2ab-91aa-470a-998a-f2c9c671b1dc",
   "metadata": {},
   "outputs": [
    {
     "data": {
      "text/plain": [
       "(3,)"
      ]
     },
     "execution_count": 80,
     "metadata": {},
     "output_type": "execute_result"
    }
   ],
   "source": [
    "its_shape = np.shape(entries)\n",
    "its_shape"
   ]
  },
  {
   "cell_type": "markdown",
   "id": "7ec43ae0-7cfb-40f9-a41c-e0b3b5700e58",
   "metadata": {},
   "source": [
    "## iii)"
   ]
  },
  {
   "cell_type": "code",
   "execution_count": 81,
   "id": "54966d56-1dcf-424c-80ab-aebadb72ee7c",
   "metadata": {},
   "outputs": [
    {
     "data": {
      "text/plain": [
       "array([25,  2,  5])"
      ]
     },
     "execution_count": 81,
     "metadata": {},
     "output_type": "execute_result"
    }
   ],
   "source": [
    "transpose = np.transpose(entries)\n",
    "transpose"
   ]
  },
  {
   "cell_type": "markdown",
   "id": "c93d98bb-922d-455f-8f12-32bb79a811a8",
   "metadata": {},
   "source": [
    "## iv)"
   ]
  },
  {
   "cell_type": "code",
   "execution_count": 82,
   "id": "64493e96-e774-4f51-93bb-9522285d5649",
   "metadata": {},
   "outputs": [
    {
     "data": {
      "text/plain": [
       "np.float64(25.573423705088842)"
      ]
     },
     "execution_count": 82,
     "metadata": {},
     "output_type": "execute_result"
    }
   ],
   "source": [
    "norm_p = np.linalg.norm(entries)\n",
    "norm_p"
   ]
  },
  {
   "cell_type": "code",
   "execution_count": null,
   "id": "a9fb4cbc-7502-4035-a6e9-a8825bf1c9d1",
   "metadata": {},
   "outputs": [],
   "source": []
  },
  {
   "cell_type": "code",
   "execution_count": null,
   "id": "f4ec6597-2068-4ba3-9d95-524114f9c6a4",
   "metadata": {},
   "outputs": [],
   "source": []
  },
  {
   "cell_type": "code",
   "execution_count": null,
   "id": "106d2650-82ab-4642-bfa8-f0a24dd05203",
   "metadata": {},
   "outputs": [],
   "source": []
  },
  {
   "cell_type": "code",
   "execution_count": null,
   "id": "fd9ce1ca-5b30-43d5-b1c9-9c066277a682",
   "metadata": {},
   "outputs": [],
   "source": []
  },
  {
   "cell_type": "code",
   "execution_count": null,
   "id": "927fc5b1-133a-419c-97fe-f106f40f737e",
   "metadata": {},
   "outputs": [],
   "source": []
  }
 ],
 "metadata": {
  "kernelspec": {
   "display_name": "Python 3 (ipykernel)",
   "language": "python",
   "name": "python3"
  },
  "language_info": {
   "codemirror_mode": {
    "name": "ipython",
    "version": 3
   },
   "file_extension": ".py",
   "mimetype": "text/x-python",
   "name": "python",
   "nbconvert_exporter": "python",
   "pygments_lexer": "ipython3",
   "version": "3.12.5"
  }
 },
 "nbformat": 4,
 "nbformat_minor": 5
}
