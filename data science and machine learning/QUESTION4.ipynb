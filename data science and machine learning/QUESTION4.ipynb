{
 "cells": [
  {
   "cell_type": "code",
   "execution_count": 1,
   "id": "4a3f2e44-533c-41d1-b1c1-9702ea12883b",
   "metadata": {},
   "outputs": [
    {
     "name": "stdout",
     "output_type": "stream",
     "text": [
      "Textbooks with exactly one topic: 12\n",
      "Textbooks with no topics: 2\n",
      "Textbooks with no compilers: 4\n"
     ]
    }
   ],
   "source": [
    "# Given data\n",
    "A = 8  # Textbooks with compilers\n",
    "B = 13  # Textbooks with data structures\n",
    "C = 13  # Textbooks with operating systems\n",
    "A_and_B = 5  # Textbooks with both compilers and data structures\n",
    "A_and_C = 3  # Textbooks with both compilers and operating systems\n",
    "B_and_C = 6  # Textbooks with both data structures and operating systems\n",
    "A_and_B_and_C = 2  # Textbooks with all three topics\n",
    "\n",
    "# (a) Textbooks that include material on exactly one of these topics\n",
    "only_A = A - A_and_B - A_and_C + A_and_B_and_C  # Textbooks with only compilers\n",
    "only_B = B - A_and_B - B_and_C + A_and_B_and_C  # Textbooks with only data structures\n",
    "only_C = C - A_and_C - B_and_C + A_and_B_and_C  # Textbooks with only operating systems\n",
    "\n",
    "# Total number of textbooks that include material on exactly one topic\n",
    "exactly_one = only_A + only_B + only_C\n",
    "\n",
    "# (b) Textbooks that do not deal with any of the topics\n",
    "total_textbooks = 24\n",
    "at_least_one = A + B + C - A_and_B - A_and_C - B_and_C + A_and_B_and_C  # Textbooks with at least one topic\n",
    "no_topics = total_textbooks - at_least_one\n",
    "\n",
    "# (c) Textbooks that have no material on compilers\n",
    "B_or_C = B + C - B_and_C  # Textbooks with either data structures or operating systems (no compilers)\n",
    "no_compilers = total_textbooks - B_or_C\n",
    "\n",
    "# Output the results\n",
    "print(\"Textbooks with exactly one topic:\", exactly_one)\n",
    "print(\"Textbooks with no topics:\", no_topics)\n",
    "print(\"Textbooks with no compilers:\", no_compilers)\n"
   ]
  },
  {
   "cell_type": "code",
   "execution_count": null,
   "id": "08c8a6d7-d73d-4fa8-a9f2-312147ce66b5",
   "metadata": {},
   "outputs": [],
   "source": []
  }
 ],
 "metadata": {
  "kernelspec": {
   "display_name": "Python 3 (ipykernel)",
   "language": "python",
   "name": "python3"
  },
  "language_info": {
   "codemirror_mode": {
    "name": "ipython",
    "version": 3
   },
   "file_extension": ".py",
   "mimetype": "text/x-python",
   "name": "python",
   "nbconvert_exporter": "python",
   "pygments_lexer": "ipython3",
   "version": "3.13.0"
  }
 },
 "nbformat": 4,
 "nbformat_minor": 5
}
