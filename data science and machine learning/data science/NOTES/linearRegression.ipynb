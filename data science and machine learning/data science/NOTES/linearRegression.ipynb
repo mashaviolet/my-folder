{
 "cells": [
  {
   "cell_type": "markdown",
   "id": "a473bc5d-fe29-482d-8c55-dfe0a3076ec8",
   "metadata": {},
   "source": [
    "Linear regression is the function that has dependent and independent variables\n",
    "and uses the dependent variable to findthe target "
   ]
  },
  {
   "cell_type": "markdown",
   "id": "0247bb4b-2169-4021-9f9d-f1b21f363b8e",
   "metadata": {},
   "source": [
    "formula = y=mx +c \n",
    "or       y=b0 + b1 x\n",
    "We find relationship btn the continous variables\n",
    "We also predict other variables using y value\n",
    "simple linear deals with one variable\n",
    "linear regressions are represented on a two dimensional axis\n",
    "line of best fit\n",
    "assumes that the relationship is linear \n",
    "rule of sum\n",
    "aim is to minmise sum\n",
    "min[sum(y^-y)]\n",
    "the object of machine learning and data science is to minmise the error in the prediction\n",
    "assuption 2\n",
    "it has to be a normal distribution"
   ]
  }
 ],
 "metadata": {
  "kernelspec": {
   "display_name": "Python 3 (ipykernel)",
   "language": "python",
   "name": "python3"
  },
  "language_info": {
   "codemirror_mode": {
    "name": "ipython",
    "version": 3
   },
   "file_extension": ".py",
   "mimetype": "text/x-python",
   "name": "python",
   "nbconvert_exporter": "python",
   "pygments_lexer": "ipython3",
   "version": "3.12.6"
  }
 },
 "nbformat": 4,
 "nbformat_minor": 5
}
