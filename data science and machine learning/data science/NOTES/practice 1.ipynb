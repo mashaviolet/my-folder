{
 "cells": [
  {
   "cell_type": "code",
   "execution_count": 1,
   "id": "3f99ee99-05fb-46f1-8711-3f2f61f613ff",
   "metadata": {},
   "outputs": [],
   "source": [
    "import numpy as np #import numpy\n"
   ]
  },
  {
   "cell_type": "markdown",
   "id": "9c979a7f-e83e-42d7-b7e3-759a095277a3",
   "metadata": {},
   "source": [
    "# Import libraries\n"
   ]
  },
  {
   "cell_type": "markdown",
   "id": "6e668eb3-f349-4770-89aa-36c22888770e",
   "metadata": {},
   "source": [
    "creat a dictionary with lists"
   ]
  },
  {
   "cell_type": "code",
   "execution_count": 3,
   "id": "98fd2e9b-dd7a-48f2-8012-3b818eae5370",
   "metadata": {},
   "outputs": [],
   "source": [
    "student_infor = {\n",
    "'Student':['Alice','Bob','Alice','Bob'],\n",
    "    'Subject':['Math','Math','Science','Science'],\n",
    "'Grade':[90, 88, 95, 92]\n",
    "}\n",
    "#create a dictionary with student information"
   ]
  },
  {
   "cell_type": "code",
   "execution_count": 1,
   "id": "c9c2fffd-b7c7-4971-a64e-2793cb69664a",
   "metadata": {},
   "outputs": [
    {
     "ename": "NameError",
     "evalue": "name 'student_infor' is not defined",
     "output_type": "error",
     "traceback": [
      "\u001b[1;31m---------------------------------------------------------------------------\u001b[0m",
      "\u001b[1;31mNameError\u001b[0m                                 Traceback (most recent call last)",
      "Cell \u001b[1;32mIn[1], line 1\u001b[0m\n\u001b[1;32m----> 1\u001b[0m \u001b[43mstudent_infor\u001b[49m\n",
      "\u001b[1;31mNameError\u001b[0m: name 'student_infor' is not defined"
     ]
    }
   ],
   "source": [
    "student_infor\n"
   ]
  },
  {
   "cell_type": "markdown",
   "id": "4491f8b9-0753-45ce-bd3b-0690dffff62c",
   "metadata": {},
   "source": [
    "#create a DataFrame"
   ]
  },
  {
   "cell_type": "code",
   "execution_count": null,
   "id": "45aaf65e-3b97-4e82-9572-1ad282183959",
   "metadata": {},
   "outputs": [],
   "source": [
    "df=pd."
   ]
  },
  {
   "cell_type": "code",
   "execution_count": null,
   "id": "63503be5-b064-49dd-b9a9-de7e182ad22e",
   "metadata": {},
   "outputs": [],
   "source": []
  }
 ],
 "metadata": {
  "kernelspec": {
   "display_name": "Python 3 (ipykernel)",
   "language": "python",
   "name": "python3"
  },
  "language_info": {
   "codemirror_mode": {
    "name": "ipython",
    "version": 3
   },
   "file_extension": ".py",
   "mimetype": "text/x-python",
   "name": "python",
   "nbconvert_exporter": "python",
   "pygments_lexer": "ipython3",
   "version": "3.12.6"
  }
 },
 "nbformat": 4,
 "nbformat_minor": 5
}
