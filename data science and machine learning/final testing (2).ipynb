{
 "cells": [
  {
   "cell_type": "code",
   "execution_count": 19,
   "id": "20e76041-1acb-4dff-94a3-afcd0fabee78",
   "metadata": {},
   "outputs": [],
   "source": [
    "import numpy as np\n",
    " "
   ]
  },
  {
   "cell_type": "markdown",
   "id": "4613f139-cbdd-4d58-a4d5-c1b66d98e1b5",
   "metadata": {},
   "source": [
    "### create a 5x3 and 3x2  "
   ]
  },
  {
   "cell_type": "code",
   "execution_count": 20,
   "id": "373c542b-22ff-42cb-82d6-df10b821ef52",
   "metadata": {},
   "outputs": [
    {
     "name": "stdout",
     "output_type": "stream",
     "text": [
      "[[1 2 3]\n",
      " [1 4 5]\n",
      " [2 0 2]\n",
      " [4 0 2]\n",
      " [7 1 2]]\n"
     ]
    }
   ],
   "source": [
    "A = np.array([[1,2,3],[1,4,5],[2,0,2],[4,0,2],[7,1,2]])\n",
    "print(A)"
   ]
  },
  {
   "cell_type": "code",
   "execution_count": 21,
   "id": "57672f5e-cd6d-4e69-b227-d7b31c0d73be",
   "metadata": {},
   "outputs": [
    {
     "name": "stdout",
     "output_type": "stream",
     "text": [
      "[[1 2]\n",
      " [1 3]\n",
      " [4 1]]\n"
     ]
    }
   ],
   "source": [
    "B = np.array([[1,2],[1,3],[4,1]])\n",
    "print(B)"
   ]
  },
  {
   "cell_type": "code",
   "execution_count": 22,
   "id": "3411e139-6b29-4225-a753-098f031830bd",
   "metadata": {},
   "outputs": [
    {
     "name": "stdout",
     "output_type": "stream",
     "text": [
      "[[15 11]\n",
      " [25 19]\n",
      " [10  6]\n",
      " [12 10]\n",
      " [16 19]]\n"
     ]
    }
   ],
   "source": [
    "multiply = np.dot(A,B)\n",
    "print(multiply)"
   ]
  },
  {
   "cell_type": "markdown",
   "id": "a67de3ac-ed85-43d0-a40f-3f5e8c3f3c85",
   "metadata": {},
   "source": [
    "## identity matrix of 3x3"
   ]
  },
  {
   "cell_type": "code",
   "execution_count": 23,
   "id": "43b9c777-85fc-448b-9db9-f1b617e0d6c3",
   "metadata": {},
   "outputs": [
    {
     "name": "stdout",
     "output_type": "stream",
     "text": [
      "[[0 1 0]\n",
      " [1 0 1]\n",
      " [0 1 0]]\n"
     ]
    }
   ],
   "source": [
    "x = np.array([[0,1,0],[1,0,1],[0,1,0]])\n",
    "print(x)"
   ]
  },
  {
   "cell_type": "code",
   "execution_count": 24,
   "id": "181d4354-ee68-4f2b-bcb8-6f6306fdf5b6",
   "metadata": {},
   "outputs": [
    {
     "name": "stdout",
     "output_type": "stream",
     "text": [
      "[10 11 12 13 14 15 16 17 18 19 20 21 22 23 24 25 26 27 28 29 30 31 32 33\n",
      " 34 35 36 37 38 39 40 41 42 43 44 45 46 47 48 49]\n"
     ]
    }
   ],
   "source": [
    "vector = np.arange(10,50)\n",
    "print(vector)"
   ]
  },
  {
   "cell_type": "code",
   "execution_count": 25,
   "id": "f5cf0f03-9631-4880-ab67-d9c3826ed2e0",
   "metadata": {},
   "outputs": [
    {
     "name": "stdout",
     "output_type": "stream",
     "text": [
      "[0. 0. 0. 0. 0. 0. 0. 0. 0. 0.]\n"
     ]
    }
   ],
   "source": [
    "vectornull = np.zeros(10)\n",
    "print(vectornull)"
   ]
  },
  {
   "cell_type": "code",
   "execution_count": 26,
   "id": "78829091-6854-4307-97c5-0ba88f152812",
   "metadata": {},
   "outputs": [
    {
     "name": "stdout",
     "output_type": "stream",
     "text": [
      "[[[-0.59334057 -0.61710648 -0.07181854]\n",
      "  [-0.00889485 -0.48641006 -0.07758621]\n",
      "  [ 0.0288197  -0.52620045 -1.81455325]]\n",
      "\n",
      " [[ 0.87868727 -0.12541437  0.08481475]\n",
      "  [ 1.99508464 -0.00367135  0.13690067]\n",
      "  [ 0.68204678  0.30890708 -0.55344563]]\n",
      "\n",
      " [[ 0.48553523 -0.33953146 -1.07152231]\n",
      "  [ 0.5485173   0.47574155 -0.12269562]\n",
      "  [ 1.35522967 -0.25849059 -1.65672397]]]\n"
     ]
    }
   ],
   "source": [
    "from numpy import random\n",
    "x = random.normal(size=(3,3,3))\n",
    "print(x)"
   ]
  },
  {
   "cell_type": "markdown",
   "id": "f0fd7cde-d9a9-45d8-a7d0-519b4da4f99c",
   "metadata": {},
   "source": [
    "## create 5x5 matrix with values 1,2,3,4 just below the diagonal"
   ]
  },
  {
   "cell_type": "code",
   "execution_count": 39,
   "id": "568b414e-5e78-44a9-906d-684313c843db",
   "metadata": {},
   "outputs": [],
   "source": [
    "matrix = np.zeros((5,5),dtype=int)"
   ]
  },
  {
   "cell_type": "code",
   "execution_count": 40,
   "id": "534f144f-98f0-4c21-826c-782ce0e30fbc",
   "metadata": {},
   "outputs": [
    {
     "name": "stdout",
     "output_type": "stream",
     "text": [
      "[[0 0 0 0 0]\n",
      " [1 0 0 0 0]\n",
      " [0 2 0 0 0]\n",
      " [0 0 3 0 0]\n",
      " [0 0 0 4 0]]\n"
     ]
    }
   ],
   "source": [
    "mattrix = np.fill_diagonal(matrix[1:], [1, 2, 3, 4])\n",
    "print(matrix)\n"
   ]
  },
  {
   "cell_type": "markdown",
   "id": "ea18f269-4d8b-49df-bab1-d661d2402506",
   "metadata": {},
   "source": [
    "## normalise a 5x5 random matrix "
   ]
  },
  {
   "cell_type": "code",
   "execution_count": 41,
   "id": "3e28b73a-5667-42ad-b0bc-f524661766d4",
   "metadata": {},
   "outputs": [
    {
     "name": "stdout",
     "output_type": "stream",
     "text": [
      "[[ 1.60655351 -0.39679244 -1.04247995 -0.73414401  0.18507591]\n",
      " [ 0.65697996  0.70489508 -0.06480012  1.26544836 -0.321124  ]\n",
      " [ 1.19333615 -0.89573999  1.27941022  0.05838486 -1.48918295]\n",
      " [-0.86691872 -0.53442822 -1.69075582 -0.29966942  0.02283518]\n",
      " [-0.15321282 -0.5550865  -0.76157051 -0.10501857  0.99268662]]\n"
     ]
    }
   ],
   "source": [
    "from numpy import  random\n",
    "x = random.normal(size =(5,5))\n",
    "print(x)"
   ]
  },
  {
   "cell_type": "markdown",
   "id": "8f25e85e-c567-4649-8ef1-9d147303abde",
   "metadata": {},
   "source": [
    "## How to  get the dates of yesterday, today and tomorrow"
   ]
  },
  {
   "cell_type": "code",
   "execution_count": 42,
   "id": "689751dd-6dbc-4eea-8f2a-684e32beee4b",
   "metadata": {},
   "outputs": [],
   "source": [
    "import numpy as np"
   ]
  },
  {
   "cell_type": "code",
   "execution_count": 43,
   "id": "84fb50c5-5b7f-41e9-a470-48eee56d088b",
   "metadata": {},
   "outputs": [
    {
     "name": "stdout",
     "output_type": "stream",
     "text": [
      "2024-12-09\n"
     ]
    }
   ],
   "source": [
    "today = np.datetime64('today','D')\n",
    "print(today)"
   ]
  },
  {
   "cell_type": "code",
   "execution_count": 44,
   "id": "328cd474-6552-427a-9129-6d8f918dbe6b",
   "metadata": {},
   "outputs": [
    {
     "name": "stdout",
     "output_type": "stream",
     "text": [
      "2024-12-08\n"
     ]
    }
   ],
   "source": [
    "yesterday = today-np.timedelta64(1,'D')\n",
    "print(yesterday)"
   ]
  },
  {
   "cell_type": "code",
   "execution_count": 45,
   "id": "5f54d965-cdce-4e49-bde2-1342a853cd87",
   "metadata": {},
   "outputs": [
    {
     "name": "stdout",
     "output_type": "stream",
     "text": [
      "2024-12-10\n"
     ]
    }
   ],
   "source": [
    "tomorrow = today + np.timedelta64(1,'D')\n",
    "print(tomorrow)"
   ]
  },
  {
   "cell_type": "markdown",
   "id": "17a4d7b6-07da-40ce-89e4-913fb6975077",
   "metadata": {},
   "source": [
    "## find indices of none zero elements from [1,2,0,0,4,0] "
   ]
  },
  {
   "cell_type": "code",
   "execution_count": 46,
   "id": "c87c4629-f611-44f5-b667-44779ff76655",
   "metadata": {},
   "outputs": [
    {
     "name": "stdout",
     "output_type": "stream",
     "text": [
      "[0 1 4]\n"
     ]
    }
   ],
   "source": [
    "import numpy as np\n",
    "x= np.array([1, 2, 0, 0, 4, 0])\n",
    "non_zero_indices = np.nonzero(x)\n",
    "print( non_zero_indices[0])\n"
   ]
  },
  {
   "cell_type": "code",
   "execution_count": 1,
   "id": "28459c4a-4f55-493e-baa0-b1cd4d56909d",
   "metadata": {},
   "outputs": [],
   "source": [
    "import pandas as pd"
   ]
  },
  {
   "cell_type": "code",
   "execution_count": 2,
   "id": "da1f67b4-8fe2-4d1a-996f-1aeb39002cb4",
   "metadata": {},
   "outputs": [
    {
     "data": {
      "text/html": [
       "<div>\n",
       "<style scoped>\n",
       "    .dataframe tbody tr th:only-of-type {\n",
       "        vertical-align: middle;\n",
       "    }\n",
       "\n",
       "    .dataframe tbody tr th {\n",
       "        vertical-align: top;\n",
       "    }\n",
       "\n",
       "    .dataframe thead th {\n",
       "        text-align: right;\n",
       "    }\n",
       "</style>\n",
       "<table border=\"1\" class=\"dataframe\">\n",
       "  <thead>\n",
       "    <tr style=\"text-align: right;\">\n",
       "      <th></th>\n",
       "      <th>Unnamed: 0</th>\n",
       "      <th>TV</th>\n",
       "      <th>Radio</th>\n",
       "      <th>Newspaper</th>\n",
       "      <th>Sales</th>\n",
       "    </tr>\n",
       "  </thead>\n",
       "  <tbody>\n",
       "    <tr>\n",
       "      <th>0</th>\n",
       "      <td>1</td>\n",
       "      <td>230.1</td>\n",
       "      <td>37.8</td>\n",
       "      <td>69.2</td>\n",
       "      <td>22.1</td>\n",
       "    </tr>\n",
       "    <tr>\n",
       "      <th>1</th>\n",
       "      <td>2</td>\n",
       "      <td>44.5</td>\n",
       "      <td>39.3</td>\n",
       "      <td>45.1</td>\n",
       "      <td>10.4</td>\n",
       "    </tr>\n",
       "    <tr>\n",
       "      <th>2</th>\n",
       "      <td>3</td>\n",
       "      <td>17.2</td>\n",
       "      <td>45.9</td>\n",
       "      <td>69.3</td>\n",
       "      <td>9.3</td>\n",
       "    </tr>\n",
       "    <tr>\n",
       "      <th>3</th>\n",
       "      <td>4</td>\n",
       "      <td>151.5</td>\n",
       "      <td>41.3</td>\n",
       "      <td>58.5</td>\n",
       "      <td>18.5</td>\n",
       "    </tr>\n",
       "    <tr>\n",
       "      <th>4</th>\n",
       "      <td>5</td>\n",
       "      <td>180.8</td>\n",
       "      <td>10.8</td>\n",
       "      <td>58.4</td>\n",
       "      <td>12.9</td>\n",
       "    </tr>\n",
       "    <tr>\n",
       "      <th>...</th>\n",
       "      <td>...</td>\n",
       "      <td>...</td>\n",
       "      <td>...</td>\n",
       "      <td>...</td>\n",
       "      <td>...</td>\n",
       "    </tr>\n",
       "    <tr>\n",
       "      <th>195</th>\n",
       "      <td>196</td>\n",
       "      <td>38.2</td>\n",
       "      <td>3.7</td>\n",
       "      <td>13.8</td>\n",
       "      <td>7.6</td>\n",
       "    </tr>\n",
       "    <tr>\n",
       "      <th>196</th>\n",
       "      <td>197</td>\n",
       "      <td>94.2</td>\n",
       "      <td>4.9</td>\n",
       "      <td>8.1</td>\n",
       "      <td>9.7</td>\n",
       "    </tr>\n",
       "    <tr>\n",
       "      <th>197</th>\n",
       "      <td>198</td>\n",
       "      <td>177.0</td>\n",
       "      <td>9.3</td>\n",
       "      <td>6.4</td>\n",
       "      <td>12.8</td>\n",
       "    </tr>\n",
       "    <tr>\n",
       "      <th>198</th>\n",
       "      <td>199</td>\n",
       "      <td>283.6</td>\n",
       "      <td>42.0</td>\n",
       "      <td>66.2</td>\n",
       "      <td>25.5</td>\n",
       "    </tr>\n",
       "    <tr>\n",
       "      <th>199</th>\n",
       "      <td>200</td>\n",
       "      <td>232.1</td>\n",
       "      <td>8.6</td>\n",
       "      <td>8.7</td>\n",
       "      <td>13.4</td>\n",
       "    </tr>\n",
       "  </tbody>\n",
       "</table>\n",
       "<p>200 rows × 5 columns</p>\n",
       "</div>"
      ],
      "text/plain": [
       "     Unnamed: 0     TV  Radio  Newspaper  Sales\n",
       "0             1  230.1   37.8       69.2   22.1\n",
       "1             2   44.5   39.3       45.1   10.4\n",
       "2             3   17.2   45.9       69.3    9.3\n",
       "3             4  151.5   41.3       58.5   18.5\n",
       "4             5  180.8   10.8       58.4   12.9\n",
       "..          ...    ...    ...        ...    ...\n",
       "195         196   38.2    3.7       13.8    7.6\n",
       "196         197   94.2    4.9        8.1    9.7\n",
       "197         198  177.0    9.3        6.4   12.8\n",
       "198         199  283.6   42.0       66.2   25.5\n",
       "199         200  232.1    8.6        8.7   13.4\n",
       "\n",
       "[200 rows x 5 columns]"
      ]
     },
     "execution_count": 2,
     "metadata": {},
     "output_type": "execute_result"
    }
   ],
   "source": [
    "df = pd.read_csv('Advertising.csv')\n",
    "df"
   ]
  },
  {
   "cell_type": "code",
   "execution_count": null,
   "id": "b36f5dd0-3731-4404-adda-440052c7805d",
   "metadata": {},
   "outputs": [],
   "source": []
  }
 ],
 "metadata": {
  "kernelspec": {
   "display_name": "Python 3 (ipykernel)",
   "language": "python",
   "name": "python3"
  },
  "language_info": {
   "codemirror_mode": {
    "name": "ipython",
    "version": 3
   },
   "file_extension": ".py",
   "mimetype": "text/x-python",
   "name": "python",
   "nbconvert_exporter": "python",
   "pygments_lexer": "ipython3",
   "version": "3.12.4"
  }
 },
 "nbformat": 4,
 "nbformat_minor": 5
}
