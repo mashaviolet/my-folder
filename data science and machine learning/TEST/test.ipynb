{
 "cells": [
  {
   "cell_type": "markdown",
   "id": "b8b21535-50b7-434e-974c-85135d52ec17",
   "metadata": {},
   "source": [
    "2024/DSC/0056/SS"
   ]
  },
  {
   "cell_type": "code",
   "execution_count": 63,
   "id": "64f037cb-6126-406d-b5da-1a24f9761b51",
   "metadata": {},
   "outputs": [],
   "source": [
    "import numpy as np   #importing numpy"
   ]
  },
  {
   "cell_type": "code",
   "execution_count": 64,
   "id": "fb1f0598-8c09-491e-a5ca-f04fa98bc962",
   "metadata": {},
   "outputs": [],
   "source": [
    "import pandas as pd   # importing pandas"
   ]
  },
  {
   "cell_type": "code",
   "execution_count": 65,
   "id": "e16e59e2-502a-4cb1-98fd-b598f3c3c021",
   "metadata": {},
   "outputs": [],
   "source": [
    "import matplotlib as plt    #importing matplotlib"
   ]
  },
  {
   "cell_type": "code",
   "execution_count": 66,
   "id": "281a6681-75cd-462c-b5e0-13572c993964",
   "metadata": {},
   "outputs": [],
   "source": [
    "dct={\n",
    "   'fruit':['apple','banana','cherry'],\n",
    "    'value':[1,2.0,3]\n",
    "}\n",
    "#creating a dictionary"
   ]
  },
  {
   "cell_type": "code",
   "execution_count": 67,
   "id": "c6779c58-b8cc-4522-a1f1-591a2aa0922b",
   "metadata": {},
   "outputs": [],
   "source": [
    "dic = pd.DataFrame(data=dct)    #transforming into a dataframe"
   ]
  },
  {
   "cell_type": "code",
   "execution_count": 68,
   "id": "531ccefd-23dc-4198-8d5d-ef850fef0967",
   "metadata": {},
   "outputs": [
    {
     "data": {
      "text/html": [
       "<div>\n",
       "<style scoped>\n",
       "    .dataframe tbody tr th:only-of-type {\n",
       "        vertical-align: middle;\n",
       "    }\n",
       "\n",
       "    .dataframe tbody tr th {\n",
       "        vertical-align: top;\n",
       "    }\n",
       "\n",
       "    .dataframe thead th {\n",
       "        text-align: right;\n",
       "    }\n",
       "</style>\n",
       "<table border=\"1\" class=\"dataframe\">\n",
       "  <thead>\n",
       "    <tr style=\"text-align: right;\">\n",
       "      <th></th>\n",
       "      <th>fruit</th>\n",
       "      <th>value</th>\n",
       "    </tr>\n",
       "  </thead>\n",
       "  <tbody>\n",
       "    <tr>\n",
       "      <th>0</th>\n",
       "      <td>apple</td>\n",
       "      <td>1.0</td>\n",
       "    </tr>\n",
       "    <tr>\n",
       "      <th>1</th>\n",
       "      <td>banana</td>\n",
       "      <td>2.0</td>\n",
       "    </tr>\n",
       "    <tr>\n",
       "      <th>2</th>\n",
       "      <td>cherry</td>\n",
       "      <td>3.0</td>\n",
       "    </tr>\n",
       "  </tbody>\n",
       "</table>\n",
       "</div>"
      ],
      "text/plain": [
       "    fruit  value\n",
       "0   apple    1.0\n",
       "1  banana    2.0\n",
       "2  cherry    3.0"
      ]
     },
     "execution_count": 68,
     "metadata": {},
     "output_type": "execute_result"
    }
   ],
   "source": [
    "dic"
   ]
  },
  {
   "cell_type": "code",
   "execution_count": 69,
   "id": "81fe2da9-b6b6-4926-875d-d2efd92ef0b4",
   "metadata": {},
   "outputs": [],
   "source": [
    "array={'elements':[10,20,30,40] }   #an array"
   ]
  },
  {
   "cell_type": "code",
   "execution_count": 86,
   "id": "d15ee4f2-1a00-4555-bdb4-ce3d6ff7a1e8",
   "metadata": {},
   "outputs": [],
   "source": [
    "array=pd.DataFrame(data=array)"
   ]
  },
  {
   "cell_type": "code",
   "execution_count": 87,
   "id": "14182bc9-10bd-4bd2-acf2-5a0438896bcf",
   "metadata": {},
   "outputs": [],
   "source": [
    "elements_mean=array['elements'].mean()\n"
   ]
  },
  {
   "cell_type": "code",
   "execution_count": 88,
   "id": "d5c70103-fb03-4b1a-aa18-d6ea67f458e7",
   "metadata": {},
   "outputs": [
    {
     "data": {
      "text/plain": [
       "np.float64(25.0)"
      ]
     },
     "execution_count": 88,
     "metadata": {},
     "output_type": "execute_result"
    }
   ],
   "source": [
    "elements_mean"
   ]
  },
  {
   "cell_type": "code",
   "execution_count": 92,
   "id": "6f282b46-d4f0-40f9-84cd-dac7d82a802e",
   "metadata": {},
   "outputs": [],
   "source": [
    "elements_median=array['elements'].median()"
   ]
  },
  {
   "cell_type": "code",
   "execution_count": 93,
   "id": "be47fd1a-8dc9-4096-b2e8-f95076f895d7",
   "metadata": {},
   "outputs": [
    {
     "data": {
      "text/plain": [
       "np.float64(25.0)"
      ]
     },
     "execution_count": 93,
     "metadata": {},
     "output_type": "execute_result"
    }
   ],
   "source": [
    "elements_median"
   ]
  },
  {
   "cell_type": "code",
   "execution_count": 94,
   "id": "28348cf2-f00f-4693-9d7a-50181b337ef3",
   "metadata": {},
   "outputs": [],
   "source": [
    "elements_max=array['elements'].max()\n"
   ]
  },
  {
   "cell_type": "code",
   "execution_count": 95,
   "id": "54372871-8bc1-48d7-a949-c309d59acf51",
   "metadata": {},
   "outputs": [
    {
     "data": {
      "text/plain": [
       "np.int64(40)"
      ]
     },
     "execution_count": 95,
     "metadata": {},
     "output_type": "execute_result"
    }
   ],
   "source": [
    "elements_max"
   ]
  },
  {
   "cell_type": "code",
   "execution_count": 96,
   "id": "9b4bcc61-bcc4-4254-9e3f-499f8cf3c036",
   "metadata": {},
   "outputs": [],
   "source": [
    "elements_min=array['elements'].min()"
   ]
  },
  {
   "cell_type": "code",
   "execution_count": 98,
   "id": "70ef1923-7855-4f5b-8679-0a1cebe63132",
   "metadata": {},
   "outputs": [
    {
     "data": {
      "text/plain": [
       "np.int64(10)"
      ]
     },
     "execution_count": 98,
     "metadata": {},
     "output_type": "execute_result"
    }
   ],
   "source": [
    "elements_min"
   ]
  },
  {
   "cell_type": "markdown",
   "id": "0b910a77-96fa-4ba6-b1a7-3bd6c00e54a7",
   "metadata": {},
   "source": [
    "LINEAR PLOTING"
   ]
  },
  {
   "cell_type": "code",
   "execution_count": 102,
   "id": "cefc0440-0259-4cad-9eec-0b809d95abd3",
   "metadata": {},
   "outputs": [],
   "source": [
    "data={'x':[1,2,3,4],\n",
    "      'y1':[1,4,2,3],\n",
    "       'y2':[2,3,4,5],\n",
    "}"
   ]
  },
  {
   "cell_type": "code",
   "execution_count": 1,
   "id": "c69317ec-057c-46bc-ab82-401b8a97b92e",
   "metadata": {},
   "outputs": [],
   "source": [
    "import numpy as np"
   ]
  },
  {
   "cell_type": "code",
   "execution_count": 5,
   "id": "d22bbf21-4ffb-4fdd-85ee-1a9b060b6c02",
   "metadata": {},
   "outputs": [
    {
     "name": "stdout",
     "output_type": "stream",
     "text": [
      "[1 2 3 4 5]\n",
      "<class 'numpy.ndarray'>\n"
     ]
    }
   ],
   "source": [
    "arr = np.array ([1,2,3,4,5])\n",
    "print(arr)\n",
    "print (type(arr))"
   ]
  },
  {
   "cell_type": "code",
   "execution_count": null,
   "id": "2f67b244-2e49-416e-beac-4b70b20b5f83",
   "metadata": {},
   "outputs": [],
   "source": []
  },
  {
   "cell_type": "code",
   "execution_count": 4,
   "id": "406831cd-c343-4a31-a1e8-3b5ec22b013b",
   "metadata": {},
   "outputs": [
    {
     "name": "stdout",
     "output_type": "stream",
     "text": [
      "['masha' 'violet' 'babra' 'gift']\n",
      "<class 'numpy.ndarray'>\n"
     ]
    }
   ],
   "source": [
    "apr = np.array (['masha','violet', 'babra', 'gift'])\n",
    "print(apr)\n",
    "print(type(apr))"
   ]
  },
  {
   "cell_type": "code",
   "execution_count": 7,
   "id": "55b8a5af-1e26-41c8-a206-96e2e899bd6c",
   "metadata": {},
   "outputs": [
    {
     "name": "stdout",
     "output_type": "stream",
     "text": [
      "2.1.1\n"
     ]
    }
   ],
   "source": [
    "import numpy as np\n",
    "print (np.__version__)"
   ]
  },
  {
   "cell_type": "code",
   "execution_count": 9,
   "id": "6c84cca4-50e9-4337-89c3-e69235028824",
   "metadata": {},
   "outputs": [
    {
     "name": "stdout",
     "output_type": "stream",
     "text": [
      "[1 2 3 4 5]\n",
      "<class 'numpy.ndarray'>\n"
     ]
    }
   ],
   "source": [
    "arr = np.array((1,2, 3,4 ,5))\n",
    "print (arr)\n",
    "print (type(arr))"
   ]
  },
  {
   "cell_type": "code",
   "execution_count": 10,
   "id": "025004c0-4f40-4d09-9460-c17482bd244e",
   "metadata": {},
   "outputs": [
    {
     "name": "stdout",
     "output_type": "stream",
     "text": [
      "42\n"
     ]
    }
   ],
   "source": [
    "arr = np.array(42) # 0-d arrays\n",
    "print (arr)"
   ]
  },
  {
   "cell_type": "code",
   "execution_count": 2,
   "id": "0aefd2e0-45ec-4803-a660-6427df6e859f",
   "metadata": {},
   "outputs": [],
   "source": [
    "import numpy as np"
   ]
  },
  {
   "cell_type": "code",
   "execution_count": 3,
   "id": "5f456a3d-a218-41d6-b2ad-918297408a74",
   "metadata": {},
   "outputs": [
    {
     "name": "stdout",
     "output_type": "stream",
     "text": [
      "[1 2 3 4 5]\n"
     ]
    }
   ],
   "source": [
    "arr = np.array ([1,2,3,4,5])\n",
    "print (arr)       #1-d arrays      # d means dimension"
   ]
  },
  {
   "cell_type": "code",
   "execution_count": 5,
   "id": "9da1cc08-c406-4df2-b202-c2700a3a82fe",
   "metadata": {},
   "outputs": [
    {
     "name": "stdout",
     "output_type": "stream",
     "text": [
      "0 1 2\n"
     ]
    }
   ],
   "source": [
    "# to check the number of dimensions syntax =ndim\n",
    "import numpy as np\n",
    "a=np.array(42)\n",
    "b= np.array([1,2,3,4,5])\n",
    "c=np.array([[1,2,3],[2,3,4]])\n",
    "print(a.ndim,b.ndim,c.ndim)"
   ]
  },
  {
   "cell_type": "code",
   "execution_count": 18,
   "id": "5b0145f7-7a27-4dd8-b5f2-a5c4d398989b",
   "metadata": {},
   "outputs": [
    {
     "name": "stdout",
     "output_type": "stream",
     "text": [
      "{'fruit': ['apple', 1, 'banana', 2.0, 'cherry', 'iii']}\n"
     ]
    }
   ],
   "source": [
    "dic ={\n",
    "    'fruit':['apple',1,'banana',2.0,'cherry','iii']\n",
    "}\n",
    "print (dic)"
   ]
  },
  {
   "cell_type": "code",
   "execution_count": 19,
   "id": "5e9d4bcc-f95b-44d3-9b84-6b1a5367fd6a",
   "metadata": {},
   "outputs": [
    {
     "name": "stdout",
     "output_type": "stream",
     "text": [
      "1\n"
     ]
    }
   ],
   "source": [
    "print(len(dic))"
   ]
  },
  {
   "cell_type": "code",
   "execution_count": 22,
   "id": "94fa4d6a-6b78-4ce2-b80e-b3312c0c7085",
   "metadata": {},
   "outputs": [
    {
     "name": "stdout",
     "output_type": "stream",
     "text": [
      "['apple', 1, 'banana', 2.0, 'cherry', 'iii']\n"
     ]
    }
   ],
   "source": [
    "x=dic.get('fruit')\n",
    "print(x)"
   ]
  },
  {
   "cell_type": "code",
   "execution_count": null,
   "id": "c3fd0052-9e90-4827-a68a-4fa35281d0c5",
   "metadata": {},
   "outputs": [],
   "source": []
  }
 ],
 "metadata": {
  "kernelspec": {
   "display_name": "Python 3 (ipykernel)",
   "language": "python",
   "name": "python3"
  },
  "language_info": {
   "codemirror_mode": {
    "name": "ipython",
    "version": 3
   },
   "file_extension": ".py",
   "mimetype": "text/x-python",
   "name": "python",
   "nbconvert_exporter": "python",
   "pygments_lexer": "ipython3",
   "version": "3.12.6"
  }
 },
 "nbformat": 4,
 "nbformat_minor": 5
}
